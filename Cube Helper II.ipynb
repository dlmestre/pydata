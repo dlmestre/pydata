{
 "metadata": {
  "name": ""
 },
 "nbformat": 3,
 "nbformat_minor": 0,
 "worksheets": [
  {
   "cells": [
    {
     "cell_type": "code",
     "collapsed": false,
     "input": [
      "import pandas as pd\n",
      "\n",
      "path_subnational = r\"/home/ubuntu/Files/SUBNATIONAL/poverty_subnational.csv\"\n",
      "path_population = r\"/home/ubuntu/Files/POP/pop_v3.csv\"\n",
      "path_gdp_per_capita = r\"/home/ubuntu/Files/GDP/gdp_v3.csv\"\n",
      "path_Life_Expectancy = r\"/home/ubuntu/Files/WDI/Life_Expectancy.csv\"\n",
      "\n",
      "subnational_data = pd.read_csv(path_subnational)\n",
      "population_data = pd.read_csv(path_population)\n",
      "gdp_data = pd.read_csv(path_gdp_per_capita)\n",
      "life_data = pd.read_csv(path_Life_Expectancy)\n",
      "\n",
      "gdp_data[gdp_data[\"Countries\"] == 'Middle East (developing only)']\n",
      "\n",
      "new_gdp_data = gdp_data[gdp_data[\"Countries\"] != 'Middle East (developing only)']\n",
      "new_population_data = population_data[population_data[\"Countries\"] != 'Middle East (developing only)']\n",
      "\n"
     ],
     "language": "python",
     "metadata": {},
     "outputs": [],
     "prompt_number": 1
    },
    {
     "cell_type": "code",
     "collapsed": false,
     "input": [
      "new_path_gdp = r\"/home/ubuntu/Files/GDP/gdp_v2.csv\"\n",
      "gdp=pd.read_csv(new_path_gdp)\n",
      "len(gdp[\"Country Name\"])"
     ],
     "language": "python",
     "metadata": {},
     "outputs": [
      {
       "metadata": {},
       "output_type": "pyout",
       "prompt_number": 4,
       "text": [
        "249"
       ]
      }
     ],
     "prompt_number": 4
    },
    {
     "cell_type": "code",
     "collapsed": false,
     "input": [
      "import pandas as pd\n",
      "\n",
      "path_subnational = r\"/home/ubuntu/Files/SUBNATIONAL/poverty_subnational.csv\"\n",
      "\n",
      "\n",
      "subnational_data = pd.read_csv(path_subnational)\n",
      "\n",
      "country_pov = subnational_data[subnational_data[\"Years\"]==1996]\n",
      "\n",
      "Countries_Poverty_data = country_pov[\"Countries\"].tolist()\n",
      "\n",
      "CountriesPop = gdp[\"Country Name\"].tolist()\n",
      "\n",
      "Countries_Data = []\n",
      "Regions_Data = []\n",
      "\n",
      "for Country in CountriesPop:\n",
      "    if Country not in Countries_Poverty_data:\n",
      "        Countries_Data.append(Country)\n",
      "        Regions_Data.append(None)\n",
      "    else:\n",
      "        count = Countries_Poverty_data.count(Country)\n",
      "        #print(count)\n",
      "        Regions = country_pov[country_pov[\"Countries\"] == Country]\n",
      "        Regions_list = Regions[\"Regions\"].tolist()\n",
      "        for R in Regions_list:\n",
      "            Regions_Data.append(R)\n",
      "        for i in range(count):\n",
      "            Countries_Data.append(Country)"
     ],
     "language": "python",
     "metadata": {},
     "outputs": [],
     "prompt_number": 25
    },
    {
     "cell_type": "code",
     "collapsed": false,
     "input": [
      "print(len(Regions_Data),len(Countries_list))"
     ],
     "language": "python",
     "metadata": {},
     "outputs": [
      {
       "output_type": "stream",
       "stream": "stdout",
       "text": [
        "(987, 987)\n"
       ]
      }
     ],
     "prompt_number": 26
    },
    {
     "cell_type": "code",
     "collapsed": false,
     "input": [
      "l"
     ],
     "language": "python",
     "metadata": {},
     "outputs": [
      {
       "metadata": {},
       "output_type": "pyout",
       "prompt_number": 16,
       "text": [
        "[nan,\n",
        " 'Central',\n",
        " 'East',\n",
        " 'North',\n",
        " 'North East',\n",
        " 'South',\n",
        " 'South West',\n",
        " 'West',\n",
        " 'West-Central']"
       ]
      }
     ],
     "prompt_number": 16
    },
    {
     "cell_type": "code",
     "collapsed": false,
     "input": [],
     "language": "python",
     "metadata": {},
     "outputs": []
    }
   ],
   "metadata": {}
  }
 ]
}