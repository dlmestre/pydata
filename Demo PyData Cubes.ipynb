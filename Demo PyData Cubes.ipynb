{
 "metadata": {
  "name": ""
 },
 "nbformat": 3,
 "nbformat_minor": 0,
 "worksheets": [
  {
   "cells": [
    {
     "cell_type": "code",
     "collapsed": false,
     "input": [
      "from cubes import Workspace\n",
      "from sqlalchemy import create_engine\n",
      "from cubes.tutorial.sql import create_table_from_csv\n",
      "\n",
      "workspace = Workspace()\n",
      "workspace.register_default_store(\"sql\", url=\"sqlite:///pydata.sqlite\")"
     ],
     "language": "python",
     "metadata": {},
     "outputs": [],
     "prompt_number": 1
    },
    {
     "cell_type": "code",
     "collapsed": false,
     "input": [
      "from sqlalchemy import create_engine\n",
      "from cubes.tutorial.sql import create_table_from_csv\n",
      "\n",
      "engine = create_engine('sqlite:///pydata.sqlite')\n",
      "\n",
      "path_life_expectancy = r\"/home/ubuntu/Files/WDI/WDI_life_expectancy.csv\"\n",
      "path_gdp_per_capita = r\"/home/ubuntu/Files/GAPDATA/gapdata.csv\"\n",
      "\n",
      "create_table_from_csv(engine,\n",
      "                      path_life_expectancy,\n",
      "                      table_name=\"wdi_life_expectancy\",\n",
      "                      fields=[(\"Countries\", \"string\"),\n",
      "                              (\"Life Expectancy\", \"string\"),\n",
      "                              (\"Years\", \"integer\")],\n",
      "                      create_id=True)\n",
      "\n",
      "create_table_from_csv(engine,\n",
      "                      path_gdp_per_capita,\n",
      "                      table_name=\"gap_gdp_per_Capita\",\n",
      "                      fields=[(\"Countries\", \"string\"),\n",
      "                              (\"GDP per capita\", \"integer\"),\n",
      "                              (\"Years\", \"integer\")],\n",
      "                      create_id=True)\n"
     ],
     "language": "python",
     "metadata": {},
     "outputs": [],
     "prompt_number": 2
    },
    {
     "cell_type": "code",
     "collapsed": false,
     "input": [
      "from sqlalchemy import create_engine\n",
      "from cubes.tutorial.sql import create_table_from_csv\n",
      "\n",
      "engine = create_engine('sqlite:///pydata.sqlite')\n",
      "\n",
      "path_subnational = r\"/home/ubuntu/Files/SUBNATIONAL/poverty_subnational.csv\"\n",
      "\n",
      "create_table_from_csv(engine,\n",
      "                      path_subnational,\n",
      "                      table_name=\"poverty_subnational\",\n",
      "                      fields=[(\"Countries\", \"string\"),\n",
      "                              (\"Regions\", \"string\"),\n",
      "                              (\"Years\", \"integer\"),\n",
      "                              (\"Poverty\", \"string\"),\n",
      "                              (\"GDP per capita\", \"integer\"),\n",
      "                              (\"Life Expectancy\", \"string\"),\n",
      "                              (\"Population\", \"integer\")],\n",
      "                      create_id=True)"
     ],
     "language": "python",
     "metadata": {},
     "outputs": [],
     "prompt_number": 2
    },
    {
     "cell_type": "code",
     "collapsed": false,
     "input": [
      "engine = create_engine('sqlite:///pydata.sqlite')\n",
      "\n",
      "path_population = r\"/home/ubuntu/Files/POP/pop_v3.csv\"\n",
      "\n",
      "create_table_from_csv(engine,\n",
      "                      path_population,\n",
      "                      table_name=\"population_by_country\",\n",
      "                      fields=[(\"Countries\", \"string\"),\n",
      "                              (\"Population\", \"integer\"),\n",
      "                              (\"Years\", \"integer\")],\n",
      "                      create_id=True)"
     ],
     "language": "python",
     "metadata": {},
     "outputs": [],
     "prompt_number": 5
    },
    {
     "cell_type": "code",
     "collapsed": false,
     "input": [],
     "language": "python",
     "metadata": {},
     "outputs": [],
     "prompt_number": 6
    },
    {
     "cell_type": "code",
     "collapsed": false,
     "input": [
      "import sqlite3\n",
      "con = sqlite3.connect('pydata.sqlite')\n",
      "\n",
      "with con:\n",
      "    \n",
      "    cur = con.cursor() \n",
      "    cur.execute(\"SELECT * FROM population_by_country\")    \n",
      "    tables = cur.fetchall() \n",
      "\n",
      "    #for table_name in tables:\n",
      "    #    print(table_name)"
     ],
     "language": "python",
     "metadata": {},
     "outputs": [],
     "prompt_number": 7
    },
    {
     "cell_type": "code",
     "collapsed": false,
     "input": [
      "from __future__ import print_function\n",
      "from cubes import Workspace, Cell, PointCut\n",
      "\n",
      "path_file = r\"/home/ubuntu/Files/new_model4.json\"\n",
      "\n",
      "workspace = Workspace()\n",
      "workspace.register_default_store(\"sql\", url=\"sqlite:///pydata.sqlite\")\n",
      "workspace.import_model(path_file)\n",
      "\n",
      "browser = workspace.browser(\"poverty_subnational\")"
     ],
     "language": "python",
     "metadata": {},
     "outputs": [],
     "prompt_number": 18
    },
    {
     "cell_type": "code",
     "collapsed": false,
     "input": [
      "#workspace.register_store(\"default\", \"sql\", \n",
      "#                         url=\"sqlite:///pydata.sqlite\",\n",
      "#                         dimension_prefix=\"dim_\",\n",
      "#                         dimension_suffix=\"_dim\",\n",
      "#                         fact_suffix=\"_fact\",\n",
      "#                         fact_prefix=\"fact_\")\n",
      "\n",
      "result = browser.aggregate(drilldown=[\"gap_gdp_per_Capita.\"])\n",
      "print(result.summary)\n",
      "for r in result:\n",
      "    print(r)"
     ],
     "language": "python",
     "metadata": {},
     "outputs": [
      {
       "output_type": "stream",
       "stream": "stdout",
       "text": [
        "{'fact_count': 0}\n"
       ]
      }
     ],
     "prompt_number": 20
    },
    {
     "cell_type": "code",
     "collapsed": false,
     "input": [
      "print(result.summary)"
     ],
     "language": "python",
     "metadata": {},
     "outputs": [
      {
       "output_type": "stream",
       "stream": "stdout",
       "text": [
        "{'fact_count': 46332}\n"
       ]
      }
     ],
     "prompt_number": 39
    },
    {
     "cell_type": "code",
     "collapsed": false,
     "input": [
      "for row in result.table_rows(\"population\"):\n",
      "    print(row.label)"
     ],
     "language": "python",
     "metadata": {},
     "outputs": [],
     "prompt_number": 44
    },
    {
     "cell_type": "code",
     "collapsed": false,
     "input": [
      "cut = PointCut(\"wdi_life_expectancy\",[\"e\"])\n",
      "cell = Cell(browser.cube,cuts=[cut])\n",
      "\n",
      "result = browser.aggregate(cell, drilldown=[\"Countries\"])\n",
      "\n",
      "print(result.summary)"
     ],
     "language": "python",
     "metadata": {},
     "outputs": [
      {
       "output_type": "stream",
       "stream": "stdout",
       "text": [
        "{'fact_count': 0}\n"
       ]
      }
     ],
     "prompt_number": 20
    },
    {
     "cell_type": "code",
     "collapsed": false,
     "input": [
      "result = browser.aggregate(drilldown=[\"Countries\"])\n",
      "print(result.summary)\n",
      "for r in result:\n",
      "    print(r)"
     ],
     "language": "python",
     "metadata": {},
     "outputs": [
      {
       "output_type": "stream",
       "stream": "stdout",
       "text": [
        "{'fact_count': 46332}\n",
        "{'fact_count': 486, u'Countries': u'Afghanistan'}\n",
        "{'fact_count': 270, u'Countries': u'Albania'}\n",
        "{'fact_count': 648, u'Countries': u'Armenia'}\n",
        "{'fact_count': 378, u'Countries': u'Bangladesh'}\n",
        "{'fact_count': 432, u'Countries': u'Belarus'}\n",
        "{'fact_count': 1134, u'Countries': u'Bhutan'}\n",
        "{'fact_count': 486, u'Countries': u'Bolivia'}\n",
        "{'fact_count': 216, u'Countries': u'Bosnia and Herzegovina'}\n",
        "{'fact_count': 378, u'Countries': u'Bulgaria'}\n",
        "{'fact_count': 594, u'Countries': u'Cameroon'}\n",
        "{'fact_count': 864, u'Countries': u'Chile'}\n",
        "{'fact_count': 1296, u'Countries': u'Colombia'}\n",
        "{'fact_count': 648, u'Countries': u'Congo'}\n",
        "{'fact_count': 378, u'Countries': u'Costa Rica'}\n",
        "{'fact_count': 486, u'Countries': u'Czech Republic'}\n",
        "{'fact_count': 594, u'Countries': u'Dominican Republic'}\n",
        "{'fact_count': 1404, u'Countries': u'Ecuador'}\n",
        "{'fact_count': 216, u'Countries': u'Egypt'}\n",
        "{'fact_count': 810, u'Countries': u'El Salvador'}\n",
        "{'fact_count': 864, u'Countries': u'Estonia'}\n",
        "{'fact_count': 756, u'Countries': u'Georgia'}\n",
        "{'fact_count': 486, u'Countries': u'Guatemala'}\n",
        "{'fact_count': 486, u'Countries': u'Guinea'}\n",
        "{'fact_count': 594, u'Countries': u'Haiti'}\n",
        "{'fact_count': 216, u'Countries': u'Hungary'}\n",
        "{'fact_count': 1944, u'Countries': u'India'}\n",
        "{'fact_count': 1782, u'Countries': u'Indonesia'}\n",
        "{'fact_count': 1026, u'Countries': u'Iraq'}\n",
        "{'fact_count': 648, u'Countries': u'Jordan'}\n",
        "{'fact_count': 918, u'Countries': u'Kazakhstan'}\n",
        "{'fact_count': 486, u'Countries': u'Kyrgyz Republic'}\n",
        "{'fact_count': 1026, u'Countries': u'Lao PDR'}\n",
        "{'fact_count': 378, u'Countries': u'Latvia'}\n",
        "{'fact_count': 378, u'Countries': u'Lebanon'}\n",
        "{'fact_count': 918, u'Countries': u'Liberia'}\n",
        "{'fact_count': 1782, u'Countries': u'Mexico'}\n",
        "{'fact_count': 270, u'Countries': u'Moldova'}\n",
        "{'fact_count': 216, u'Countries': u'Montenegro'}\n",
        "{'fact_count': 810, u'Countries': u'Morocco'}\n",
        "{'fact_count': 648, u'Countries': u'Mozambique'}\n",
        "{'fact_count': 324, u'Countries': u'Nepal'}\n",
        "{'fact_count': 2052, u'Countries': u'Nigeria'}\n",
        "{'fact_count': 756, u'Countries': u'Panama'}\n",
        "{'fact_count': 270, u'Countries': u'Peru'}\n",
        "{'fact_count': 378, u'Countries': u'Poland'}\n",
        "{'fact_count': 486, u'Countries': u'Romania'}\n",
        "{'fact_count': 4536, u'Countries': u'Russian Federation'}\n",
        "{'fact_count': 756, u'Countries': u'Sierra Leone'}\n",
        "{'fact_count': 486, u'Countries': u'Slovak Republic'}\n",
        "{'fact_count': 162, u'Countries': u'Slovenia'}\n",
        "{'fact_count': 594, u'Countries': u'South Sudan'}\n",
        "{'fact_count': 540, u'Countries': u'Sri Lanka'}\n",
        "{'fact_count': 864, u'Countries': u'Sudan'}\n",
        "{'fact_count': 270, u'Countries': u'Syrian Arab Republic'}\n",
        "{'fact_count': 324, u'Countries': u'Tajikistan'}\n",
        "{'fact_count': 756, u'Countries': u'Timor-Leste'}\n",
        "{'fact_count': 378, u'Countries': u'Togo'}\n",
        "{'fact_count': 432, u'Countries': u'Tunisia'}\n",
        "{'fact_count': 1296, u'Countries': u'Venezuela'}\n",
        "{'fact_count': 486, u'Countries': u'Vietnam'}\n",
        "{'fact_count': 162, u'Countries': u'West Bank and Gaza'}\n",
        "{'fact_count': 1134, u'Countries': u'Yemen'}\n",
        "{'fact_count': 540, u'Countries': u'Zambia'}\n"
       ]
      }
     ],
     "prompt_number": 42
    },
    {
     "cell_type": "code",
     "collapsed": false,
     "input": [],
     "language": "python",
     "metadata": {},
     "outputs": []
    }
   ],
   "metadata": {}
  }
 ]
}